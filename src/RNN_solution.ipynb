{
 "cells": [
  {
   "cell_type": "markdown",
   "metadata": {},
   "source": [
    "# Natural language processing: spam detection with recurrent neural networks"
   ]
  },
  {
   "cell_type": "code",
   "execution_count": 1,
   "metadata": {},
   "outputs": [
    {
     "name": "stderr",
     "output_type": "stream",
     "text": [
      "2025-03-31 21:35:13.126444: I tensorflow/core/platform/cpu_feature_guard.cc:210] This TensorFlow binary is optimized to use available CPU instructions in performance-critical operations.\n",
      "To enable the following instructions: AVX2 FMA, in other operations, rebuild TensorFlow with the appropriate compiler flags.\n"
     ]
    }
   ],
   "source": [
    "# Handle imports up-front\n",
    "import regex as re\n",
    "import numpy as np\n",
    "import pandas as pd\n",
    "import matplotlib.pyplot as plt\n",
    "import tensorflow as tf\n",
    "from statistics import mean \n",
    "from sklearn.model_selection import train_test_split, cross_val_score\n",
    "from nltk import download\n",
    "from nltk.corpus import stopwords\n",
    "from nltk.stem import WordNetLemmatizer\n",
    "from sklearn.feature_extraction.text import TfidfVectorizer\n",
    "from sklearn.svm import SVC\n",
    "from sklearn.model_selection import GridSearchCV"
   ]
  },
  {
   "cell_type": "markdown",
   "metadata": {},
   "source": [
    "## 1. Data loading\n",
    "\n",
    "### 1.1. Load the data"
   ]
  },
  {
   "cell_type": "code",
   "execution_count": 2,
   "metadata": {},
   "outputs": [],
   "source": [
    "# Read csv file into dataframe\n",
    "data_df=pd.read_csv('https://raw.githubusercontent.com/4GeeksAcademy/NLP-project-tutorial/main/url_spam.csv')\n",
    "\n",
    "# Drop duplicates if any\n",
    "data_df.drop_duplicates(inplace=True)\n",
    "data_df.reset_index(inplace=True, drop=True)"
   ]
  },
  {
   "cell_type": "markdown",
   "metadata": {},
   "source": [
    "### 1.2. Inspect the data"
   ]
  },
  {
   "cell_type": "code",
   "execution_count": 3,
   "metadata": {},
   "outputs": [
    {
     "data": {
      "text/html": [
       "<div>\n",
       "<style scoped>\n",
       "    .dataframe tbody tr th:only-of-type {\n",
       "        vertical-align: middle;\n",
       "    }\n",
       "\n",
       "    .dataframe tbody tr th {\n",
       "        vertical-align: top;\n",
       "    }\n",
       "\n",
       "    .dataframe thead th {\n",
       "        text-align: right;\n",
       "    }\n",
       "</style>\n",
       "<table border=\"1\" class=\"dataframe\">\n",
       "  <thead>\n",
       "    <tr style=\"text-align: right;\">\n",
       "      <th></th>\n",
       "      <th>url</th>\n",
       "      <th>is_spam</th>\n",
       "    </tr>\n",
       "  </thead>\n",
       "  <tbody>\n",
       "    <tr>\n",
       "      <th>0</th>\n",
       "      <td>https://briefingday.us8.list-manage.com/unsubs...</td>\n",
       "      <td>True</td>\n",
       "    </tr>\n",
       "    <tr>\n",
       "      <th>1</th>\n",
       "      <td>https://www.hvper.com/</td>\n",
       "      <td>True</td>\n",
       "    </tr>\n",
       "    <tr>\n",
       "      <th>2</th>\n",
       "      <td>https://briefingday.com/m/v4n3i4f3</td>\n",
       "      <td>True</td>\n",
       "    </tr>\n",
       "    <tr>\n",
       "      <th>3</th>\n",
       "      <td>https://briefingday.com/n/20200618/m#commentform</td>\n",
       "      <td>False</td>\n",
       "    </tr>\n",
       "    <tr>\n",
       "      <th>4</th>\n",
       "      <td>https://briefingday.com/fan</td>\n",
       "      <td>True</td>\n",
       "    </tr>\n",
       "  </tbody>\n",
       "</table>\n",
       "</div>"
      ],
      "text/plain": [
       "                                                 url  is_spam\n",
       "0  https://briefingday.us8.list-manage.com/unsubs...     True\n",
       "1                             https://www.hvper.com/     True\n",
       "2                 https://briefingday.com/m/v4n3i4f3     True\n",
       "3   https://briefingday.com/n/20200618/m#commentform    False\n",
       "4                        https://briefingday.com/fan     True"
      ]
     },
     "execution_count": 3,
     "metadata": {},
     "output_type": "execute_result"
    }
   ],
   "source": [
    "data_df.head()"
   ]
  },
  {
   "cell_type": "code",
   "execution_count": 4,
   "metadata": {},
   "outputs": [
    {
     "name": "stdout",
     "output_type": "stream",
     "text": [
      "<class 'pandas.core.frame.DataFrame'>\n",
      "RangeIndex: 2369 entries, 0 to 2368\n",
      "Data columns (total 2 columns):\n",
      " #   Column   Non-Null Count  Dtype \n",
      "---  ------   --------------  ----- \n",
      " 0   url      2369 non-null   object\n",
      " 1   is_spam  2369 non-null   bool  \n",
      "dtypes: bool(1), object(1)\n",
      "memory usage: 21.0+ KB\n"
     ]
    }
   ],
   "source": [
    "data_df.info()"
   ]
  },
  {
   "cell_type": "markdown",
   "metadata": {},
   "source": [
    "### 1.3. Train-test split"
   ]
  },
  {
   "cell_type": "code",
   "execution_count": 5,
   "metadata": {},
   "outputs": [],
   "source": [
    "# Separate features from labels\n",
    "labels=data_df['is_spam']\n",
    "features=data_df.drop('is_spam', axis=1)\n",
    "\n",
    "# Encode the labels\n",
    "encoded_labels=labels.apply(lambda x: 1 if x else 0).astype(int)\n",
    "\n",
    "# Split the data into training and testing features and labels\n",
    "training_features, testing_features, encoded_training_labels, encoded_testing_labels=train_test_split(\n",
    "    features,\n",
    "    encoded_labels,\n",
    "    test_size=0.25,\n",
    "    random_state=315\n",
    ")"
   ]
  },
  {
   "cell_type": "markdown",
   "metadata": {},
   "source": [
    "## 2. EDA\n",
    "\n",
    "First, let's just take a look at how many 'spam' vs 'not spam' urls we have:"
   ]
  },
  {
   "cell_type": "code",
   "execution_count": 6,
   "metadata": {},
   "outputs": [
    {
     "name": "stdout",
     "output_type": "stream",
     "text": [
      "Training data is 10.6% spam urls.\n"
     ]
    }
   ],
   "source": [
    "percent_spam=(sum(encoded_training_labels) / len(encoded_training_labels)) * 100\n",
    "print(f'Training data is {percent_spam:.1f}% spam urls.')"
   ]
  },
  {
   "cell_type": "markdown",
   "metadata": {},
   "source": [
    "This is unbalanced, but not extremely so - we may not need to do anything with this information. But, it is good to keep it in mind as we work through EDA and modeling."
   ]
  },
  {
   "cell_type": "markdown",
   "metadata": {},
   "source": [
    "### 2.1. Text preprocessing"
   ]
  },
  {
   "cell_type": "code",
   "execution_count": 7,
   "metadata": {},
   "outputs": [
    {
     "data": {
      "text/html": [
       "<div>\n",
       "<style scoped>\n",
       "    .dataframe tbody tr th:only-of-type {\n",
       "        vertical-align: middle;\n",
       "    }\n",
       "\n",
       "    .dataframe tbody tr th {\n",
       "        vertical-align: top;\n",
       "    }\n",
       "\n",
       "    .dataframe thead th {\n",
       "        text-align: right;\n",
       "    }\n",
       "</style>\n",
       "<table border=\"1\" class=\"dataframe\">\n",
       "  <thead>\n",
       "    <tr style=\"text-align: right;\">\n",
       "      <th></th>\n",
       "      <th>url</th>\n",
       "    </tr>\n",
       "  </thead>\n",
       "  <tbody>\n",
       "    <tr>\n",
       "      <th>311</th>\n",
       "      <td>[https, nytimes, com, us, into, the, wild, bus...</td>\n",
       "    </tr>\n",
       "    <tr>\n",
       "      <th>2317</th>\n",
       "      <td>[https, digg, cmail, com, t, ptuurik, vkjjhbly...</td>\n",
       "    </tr>\n",
       "    <tr>\n",
       "      <th>1953</th>\n",
       "      <td>[http, snarkmarket, com]</td>\n",
       "    </tr>\n",
       "    <tr>\n",
       "      <th>1872</th>\n",
       "      <td>[https, youtube, com, watch, d, u]</td>\n",
       "    </tr>\n",
       "    <tr>\n",
       "      <th>1752</th>\n",
       "      <td>[https, wired, com, story, amazon, shakes, sel...</td>\n",
       "    </tr>\n",
       "  </tbody>\n",
       "</table>\n",
       "</div>"
      ],
      "text/plain": [
       "                                                    url\n",
       "311   [https, nytimes, com, us, into, the, wild, bus...\n",
       "2317  [https, digg, cmail, com, t, ptuurik, vkjjhbly...\n",
       "1953                           [http, snarkmarket, com]\n",
       "1872                 [https, youtube, com, watch, d, u]\n",
       "1752  [https, wired, com, story, amazon, shakes, sel..."
      ]
     },
     "execution_count": 7,
     "metadata": {},
     "output_type": "execute_result"
    }
   ],
   "source": [
    "def preprocess_text(text):\n",
    "\n",
    "    # Remove any character that is not a letter (a-z) or white space ( )\n",
    "    text=re.sub(r'[^a-z ]', ' ', text)\n",
    "    \n",
    "    # Remove white spaces\n",
    "    text=re.sub(r'\\s+[a-zA-Z]\\s+', ' ', text)\n",
    "    text=re.sub(r'\\^[a-zA-Z]\\s+', ' ', text)\n",
    "\n",
    "    # Multiple white spaces into one\n",
    "    text=re.sub(r'\\s+', ' ', text.lower())\n",
    "\n",
    "    # Remove tags\n",
    "    text=re.sub('&lt;/?.*?&gt;',' &lt;&gt; ', text)\n",
    "\n",
    "    # Remove 'http', 'https' and 'www'\n",
    "    # text=re.sub('https', '', text)\n",
    "    # text=re.sub('http', '', text)\n",
    "    text=re.sub('www', '', text)\n",
    "\n",
    "    return text.split()\n",
    "\n",
    "training_features['url']=training_features['url'].apply(preprocess_text)\n",
    "testing_features['url']=testing_features['url'].apply(preprocess_text)\n",
    "training_features.head()"
   ]
  },
  {
   "cell_type": "markdown",
   "metadata": {},
   "source": [
    "### 2.2. Lematization"
   ]
  },
  {
   "cell_type": "code",
   "execution_count": 8,
   "metadata": {},
   "outputs": [
    {
     "name": "stderr",
     "output_type": "stream",
     "text": [
      "[nltk_data] Downloading package wordnet to /home/vscode/nltk_data...\n",
      "[nltk_data]   Package wordnet is already up-to-date!\n"
     ]
    },
    {
     "data": {
      "text/html": [
       "<div>\n",
       "<style scoped>\n",
       "    .dataframe tbody tr th:only-of-type {\n",
       "        vertical-align: middle;\n",
       "    }\n",
       "\n",
       "    .dataframe tbody tr th {\n",
       "        vertical-align: top;\n",
       "    }\n",
       "\n",
       "    .dataframe thead th {\n",
       "        text-align: right;\n",
       "    }\n",
       "</style>\n",
       "<table border=\"1\" class=\"dataframe\">\n",
       "  <thead>\n",
       "    <tr style=\"text-align: right;\">\n",
       "      <th></th>\n",
       "      <th>url</th>\n",
       "    </tr>\n",
       "  </thead>\n",
       "  <tbody>\n",
       "    <tr>\n",
       "      <th>311</th>\n",
       "      <td>[http, nytimes, wild, removed, html]</td>\n",
       "    </tr>\n",
       "    <tr>\n",
       "      <th>2317</th>\n",
       "      <td>[http, digg, cmail, ptuurik, vkjjhbly]</td>\n",
       "    </tr>\n",
       "    <tr>\n",
       "      <th>1953</th>\n",
       "      <td>[http, snarkmarket]</td>\n",
       "    </tr>\n",
       "    <tr>\n",
       "      <th>1872</th>\n",
       "      <td>[http, youtube, watch]</td>\n",
       "    </tr>\n",
       "    <tr>\n",
       "      <th>1752</th>\n",
       "      <td>[http, wired, story, amazon, shake, self, driv...</td>\n",
       "    </tr>\n",
       "  </tbody>\n",
       "</table>\n",
       "</div>"
      ],
      "text/plain": [
       "                                                    url\n",
       "311                [http, nytimes, wild, removed, html]\n",
       "2317             [http, digg, cmail, ptuurik, vkjjhbly]\n",
       "1953                                [http, snarkmarket]\n",
       "1872                             [http, youtube, watch]\n",
       "1752  [http, wired, story, amazon, shake, self, driv..."
      ]
     },
     "execution_count": 8,
     "metadata": {},
     "output_type": "execute_result"
    }
   ],
   "source": [
    "download('wordnet')\n",
    "lemmatizer=WordNetLemmatizer()\n",
    "\n",
    "# download('stopwords')\n",
    "stop_words=stopwords.words('english')\n",
    "\n",
    "def lemmatize_text(words, lemmatizer=lemmatizer):\n",
    "    tokens=[lemmatizer.lemmatize(word) for word in words]\n",
    "    tokens=[word for word in tokens if word not in stop_words]\n",
    "    tokens = [word for word in tokens if len(word) > 3]\n",
    "    return tokens\n",
    "\n",
    "training_features['url']=training_features['url'].apply(lemmatize_text)\n",
    "testing_features['url']=testing_features['url'].apply(lemmatize_text)\n",
    "training_features.head()"
   ]
  },
  {
   "cell_type": "markdown",
   "metadata": {},
   "source": [
    "### 2.3. URL length distribution"
   ]
  },
  {
   "cell_type": "code",
   "execution_count": 9,
   "metadata": {},
   "outputs": [
    {
     "data": {
      "image/png": "[encoded data removed]",
      "text/plain": [
       "<Figure size 640x480 with 1 Axes>"
      ]
     },
     "metadata": {},
     "output_type": "display_data"
    },
    {
     "name": "stdout",
     "output_type": "stream",
     "text": [
      "URL length mean: 7 tokens\n",
      "URL length min: 2 tokens\n",
      "URL length max: 19 tokens\n"
     ]
    }
   ],
   "source": [
    "# Get the lengths (in tokens)\n",
    "lengths=[len(url) for url in training_features['url'].tolist()]\n",
    "\n",
    "# Add it back to the data as a new feature\n",
    "training_features['url_len']=lengths\n",
    "\n",
    "# Same for the testing data\n",
    "lengths=[len(url) for url in testing_features['url'].tolist()]\n",
    "testing_features['url_len']=lengths\n",
    "\n",
    "plt.title('URL length distribution')\n",
    "plt.xlabel('Tokens')\n",
    "plt.ylabel('URLs')\n",
    "plt.hist(lengths, bins=25, color='black')\n",
    "plt.show()\n",
    "\n",
    "print(f'URL length mean: {mean(lengths):.0f} tokens')\n",
    "print(f'URL length min: {min(lengths):.0f} tokens')\n",
    "print(f'URL length max: {max(lengths):.0f} tokens')"
   ]
  },
  {
   "cell_type": "markdown",
   "metadata": {},
   "source": [
    "We have at least one URL with length zero after out text cleaning. Let's get rid of it."
   ]
  },
  {
   "cell_type": "code",
   "execution_count": 10,
   "metadata": {},
   "outputs": [],
   "source": [
    "# Add the labels back temporarily, so we can remove the corresponding label with url\n",
    "training_features['target']=encoded_training_labels\n",
    "training_features=training_features[training_features['url_len'] > 0]\n",
    "\n",
    "testing_features['target']=encoded_testing_labels\n",
    "testing_features=testing_features[testing_features['url_len'] > 0]\n",
    "\n",
    "# Re-separate the features and labels\n",
    "encoded_training_labels=training_features['target']\n",
    "training_features.drop(['target'], axis=1, inplace=True)\n",
    "\n",
    "encoded_testing_labels=testing_features['target']\n",
    "testing_features.drop(['target'], axis=1, inplace=True)"
   ]
  },
  {
   "cell_type": "markdown",
   "metadata": {},
   "source": [
    "We also have some long urls, let's take a look at what they are and decide if we should exclude them."
   ]
  },
  {
   "cell_type": "code",
   "execution_count": 11,
   "metadata": {},
   "outputs": [
    {
     "data": {
      "text/html": [
       "<div>\n",
       "<style scoped>\n",
       "    .dataframe tbody tr th:only-of-type {\n",
       "        vertical-align: middle;\n",
       "    }\n",
       "\n",
       "    .dataframe tbody tr th {\n",
       "        vertical-align: top;\n",
       "    }\n",
       "\n",
       "    .dataframe thead th {\n",
       "        text-align: right;\n",
       "    }\n",
       "</style>\n",
       "<table border=\"1\" class=\"dataframe\">\n",
       "  <thead>\n",
       "    <tr style=\"text-align: right;\">\n",
       "      <th></th>\n",
       "      <th>url</th>\n",
       "      <th>url_len</th>\n",
       "    </tr>\n",
       "  </thead>\n",
       "  <tbody>\n",
       "    <tr>\n",
       "      <th>2159</th>\n",
       "      <td>[http, washingtonpost, politics, court, suprem...</td>\n",
       "      <td>17</td>\n",
       "    </tr>\n",
       "    <tr>\n",
       "      <th>2142</th>\n",
       "      <td>[http, ohio, news, ohio, university, professor...</td>\n",
       "      <td>16</td>\n",
       "    </tr>\n",
       "    <tr>\n",
       "      <th>219</th>\n",
       "      <td>[http, judiciary, senate, press, release, chai...</td>\n",
       "      <td>17</td>\n",
       "    </tr>\n",
       "    <tr>\n",
       "      <th>1433</th>\n",
       "      <td>[http, marketwatch, story, reason, stock, mark...</td>\n",
       "      <td>16</td>\n",
       "    </tr>\n",
       "    <tr>\n",
       "      <th>2320</th>\n",
       "      <td>[http, washingtonpost, local, public, safety, ...</td>\n",
       "      <td>16</td>\n",
       "    </tr>\n",
       "    <tr>\n",
       "      <th>319</th>\n",
       "      <td>[http, reuters, article, stock, weekahead, wal...</td>\n",
       "      <td>17</td>\n",
       "    </tr>\n",
       "    <tr>\n",
       "      <th>1866</th>\n",
       "      <td>[http, washingtonpost, national, security, rus...</td>\n",
       "      <td>18</td>\n",
       "    </tr>\n",
       "    <tr>\n",
       "      <th>1724</th>\n",
       "      <td>[http, section, live, update, protest, racial,...</td>\n",
       "      <td>16</td>\n",
       "    </tr>\n",
       "    <tr>\n",
       "      <th>2334</th>\n",
       "      <td>[http, reuters, article, russia, putin, vote, ...</td>\n",
       "      <td>17</td>\n",
       "    </tr>\n",
       "    <tr>\n",
       "      <th>2077</th>\n",
       "      <td>[http, blog, microsoft, blog, microsoft, launc...</td>\n",
       "      <td>17</td>\n",
       "    </tr>\n",
       "    <tr>\n",
       "      <th>230</th>\n",
       "      <td>[http, tulsaworld, news, trump, tulsa, preside...</td>\n",
       "      <td>17</td>\n",
       "    </tr>\n",
       "    <tr>\n",
       "      <th>914</th>\n",
       "      <td>[http, section, live, update, protest, racial,...</td>\n",
       "      <td>22</td>\n",
       "    </tr>\n",
       "    <tr>\n",
       "      <th>2160</th>\n",
       "      <td>[http, washingtonpost, politics, court, suprem...</td>\n",
       "      <td>18</td>\n",
       "    </tr>\n",
       "    <tr>\n",
       "      <th>885</th>\n",
       "      <td>[http, king, article, news, local, protest, ac...</td>\n",
       "      <td>16</td>\n",
       "    </tr>\n",
       "    <tr>\n",
       "      <th>2319</th>\n",
       "      <td>[http, washingtonpost, world, europe, russia, ...</td>\n",
       "      <td>19</td>\n",
       "    </tr>\n",
       "  </tbody>\n",
       "</table>\n",
       "</div>"
      ],
      "text/plain": [
       "                                                    url  url_len\n",
       "2159  [http, washingtonpost, politics, court, suprem...       17\n",
       "2142  [http, ohio, news, ohio, university, professor...       16\n",
       "219   [http, judiciary, senate, press, release, chai...       17\n",
       "1433  [http, marketwatch, story, reason, stock, mark...       16\n",
       "2320  [http, washingtonpost, local, public, safety, ...       16\n",
       "319   [http, reuters, article, stock, weekahead, wal...       17\n",
       "1866  [http, washingtonpost, national, security, rus...       18\n",
       "1724  [http, section, live, update, protest, racial,...       16\n",
       "2334  [http, reuters, article, russia, putin, vote, ...       17\n",
       "2077  [http, blog, microsoft, blog, microsoft, launc...       17\n",
       "230   [http, tulsaworld, news, trump, tulsa, preside...       17\n",
       "914   [http, section, live, update, protest, racial,...       22\n",
       "2160  [http, washingtonpost, politics, court, suprem...       18\n",
       "885   [http, king, article, news, local, protest, ac...       16\n",
       "2319  [http, washingtonpost, world, europe, russia, ...       19"
      ]
     },
     "execution_count": 11,
     "metadata": {},
     "output_type": "execute_result"
    }
   ],
   "source": [
    "training_features[training_features['url_len'] > 15]"
   ]
  },
  {
   "cell_type": "markdown",
   "metadata": {},
   "source": [
    "These mostly look like news sites that pack a lot of article key words into the URL. You could accuse them of key-word stuffing for SEO/sensationalism, but these are not obviously 'junk' data points. Let's keep them in."
   ]
  },
  {
   "cell_type": "code",
   "execution_count": 12,
   "metadata": {},
   "outputs": [
    {
     "data": {
      "text/plain": [
       "array([b'http nytimes wild removed html',\n",
       "       b'http digg cmail ptuurik vkjjhbly', b'http snarkmarket',\n",
       "       b'http youtube watch',\n",
       "       b'http wired story amazon shake self driving ride hailing'],\n",
       "      dtype='|S167')"
      ]
     },
     "execution_count": 12,
     "metadata": {},
     "output_type": "execute_result"
    }
   ],
   "source": [
    "# Extract the tokenized URLs and join the individual lists\n",
    "training_tokens=training_features['url']\n",
    "training_tokens=np.array([' '.join(tokens).encode('UTF-8') for tokens in training_tokens])\n",
    "\n",
    "testing_tokens=testing_features['url']\n",
    "testing_tokens=np.array([' '.join(tokens).encode('UTF-8') for tokens in testing_tokens])\n",
    "\n",
    "training_tokens[:5]"
   ]
  },
  {
   "cell_type": "markdown",
   "metadata": {},
   "source": [
    "## 3. RNN model\n",
    "\n",
    "### 3.1. Validation data"
   ]
  },
  {
   "cell_type": "code",
   "execution_count": 13,
   "metadata": {},
   "outputs": [
    {
     "data": {
      "text/plain": [
       "<tf.Tensor: shape=(5,), dtype=string, numpy=\n",
       "array([b'http blog ferriss show transcript caroline paul',\n",
       "       b'http usatoday stans spamming explained',\n",
       "       b'http podcasts apple podcast mask girl summer', b'http foldnfly',\n",
       "       b'http courier journal story news politics election kentucky kentucky senate primary election result booker mcgrath'],\n",
       "      dtype=object)>"
      ]
     },
     "execution_count": 13,
     "metadata": {},
     "output_type": "execute_result"
    }
   ],
   "source": [
    "# Split the data into training and testing features and labels\n",
    "training_features, validation_features, training_labels, validation_labels=train_test_split(\n",
    "    training_tokens,\n",
    "    encoded_training_labels,\n",
    "    test_size=0.3\n",
    ")\n",
    "\n",
    "training_features=tf.convert_to_tensor(training_features)\n",
    "validation_features=tf.convert_to_tensor(validation_features)\n",
    "\n",
    "training_features[:5]"
   ]
  },
  {
   "cell_type": "markdown",
   "metadata": {},
   "source": [
    "### 3.2. Text encoding"
   ]
  },
  {
   "cell_type": "code",
   "execution_count": 14,
   "metadata": {},
   "outputs": [
    {
     "data": {
      "text/plain": [
       "array(['', '[UNK]', 'http', 'html', 'news', 'article', 'coronavirus',\n",
       "       'story', 'nytimes', 'youtube', 'trump', 'watch', 'morningbrew',\n",
       "       'numlock', 'world', 'reuters', 'daily', 'substack', 'medium',\n",
       "       'covid'], dtype='<U32')"
      ]
     },
     "execution_count": 14,
     "metadata": {},
     "output_type": "execute_result"
    }
   ],
   "source": [
    "encoder=tf.keras.layers.TextVectorization(output_mode=\"int\")\n",
    "encoder.adapt(training_features)\n",
    "\n",
    "vocab = np.array(encoder.get_vocabulary())\n",
    "vocab[:20]"
   ]
  },
  {
   "cell_type": "markdown",
   "metadata": {},
   "source": [
    "### 3.2. Model definition"
   ]
  },
  {
   "cell_type": "code",
   "execution_count": 15,
   "metadata": {},
   "outputs": [],
   "source": [
    "model=tf.keras.Sequential([\n",
    "    encoder,\n",
    "    tf.keras.layers.Embedding(\n",
    "        input_dim=len(encoder.get_vocabulary()),\n",
    "        output_dim=128,\n",
    "        mask_zero=True),\n",
    "    tf.keras.layers.Bidirectional(tf.keras.layers.LSTM(64)),\n",
    "    tf.keras.layers.Dense(16, activation='relu'),\n",
    "    tf.keras.layers.Dense(1, activation='sigmoid')\n",
    "])\n",
    "\n",
    "model.compile(\n",
    "    loss=tf.keras.losses.BinaryCrossentropy(),\n",
    "    optimizer=tf.keras.optimizers.Adam(1e-5),\n",
    "    metrics=['accuracy']\n",
    ")"
   ]
  },
  {
   "cell_type": "markdown",
   "metadata": {},
   "source": [
    "### 3.3. Class weighting"
   ]
  },
  {
   "cell_type": "code",
   "execution_count": 16,
   "metadata": {},
   "outputs": [
    {
     "name": "stdout",
     "output_type": "stream",
     "text": [
      "Weight for class 0: 0.56\n",
      "Weight for class 1: 4.78\n"
     ]
    }
   ],
   "source": [
    "total=len(training_labels)\n",
    "pos=sum(training_labels)\n",
    "neg=total-pos\n",
    "\n",
    "weight_for_0 = (1 / neg) * (total / 2.0)\n",
    "weight_for_1 = (1 / pos) * (total / 2.0)\n",
    "\n",
    "class_weight = {0: weight_for_0, 1: weight_for_1}\n",
    "\n",
    "print('Weight for class 0: {:.2f}'.format(weight_for_0))\n",
    "print('Weight for class 1: {:.2f}'.format(weight_for_1))"
   ]
  },
  {
   "cell_type": "markdown",
   "metadata": {},
   "source": [
    "### 3.3. Model training"
   ]
  },
  {
   "cell_type": "code",
   "execution_count": 17,
   "metadata": {},
   "outputs": [
    {
     "name": "stdout",
     "output_type": "stream",
     "text": [
      "\n",
      "CPU times: user 3min 45s, sys: 6.46 s, total: 3min 52s\n",
      "Wall time: 2min 44s\n"
     ]
    },
    {
     "data": {
      "image/png": "[encoded data removed]",
      "text/plain": [
       "<Figure size 800x400 with 2 Axes>"
      ]
     },
     "metadata": {},
     "output_type": "display_data"
    }
   ],
   "source": [
    "%%time\n",
    "\n",
    "training_results=model.fit(\n",
    "    training_features,\n",
    "    training_labels,\n",
    "    epochs=200,\n",
    "    validation_data=(validation_features,validation_labels),\n",
    "    class_weight=class_weight,\n",
    "    verbose=0\n",
    ")\n",
    "\n",
    "# Set-up a 1x2 figure for accuracy and binary cross-entropy\n",
    "fig, axs=plt.subplots(1,2, figsize=(8,4))\n",
    "\n",
    "# Add the main title\n",
    "fig.suptitle('RNN training curves', size='large')\n",
    "\n",
    "# Plot training and validation accuracy\n",
    "axs[0].set_title('Accuracy')\n",
    "axs[0].plot(np.array(training_results.history['accuracy']) * 100, label='Training')\n",
    "axs[0].plot(np.array(training_results.history['val_accuracy']) * 100, label='Validation')\n",
    "axs[0].set_xlabel('Epoch')\n",
    "axs[0].set_ylabel('Accuracy (%)')\n",
    "axs[0].legend(loc='best')\n",
    "\n",
    "# Plot training and validation binary cross-entropy\n",
    "axs[1].set_title('Binary cross-entropy')\n",
    "axs[1].plot(training_results.history['loss'])\n",
    "axs[1].plot(training_results.history['val_loss'])\n",
    "axs[1].set_xlabel('Epoch')\n",
    "axs[1].set_ylabel('Binary cross-entropy')\n",
    "\n",
    "fig.tight_layout()\n",
    "\n",
    "print()"
   ]
  },
  {
   "cell_type": "markdown",
   "metadata": {},
   "source": [
    "### 3.2. Regularization"
   ]
  },
  {
   "cell_type": "code",
   "execution_count": 19,
   "metadata": {},
   "outputs": [
    {
     "name": "stdout",
     "output_type": "stream",
     "text": [
      "\n",
      "CPU times: user 9min 19s, sys: 15.2 s, total: 9min 34s\n",
      "Wall time: 6min 37s\n"
     ]
    },
    {
     "data": {
      "image/png": "[encoded data removed]",
      "text/plain": [
       "<Figure size 800x400 with 2 Axes>"
      ]
     },
     "metadata": {},
     "output_type": "display_data"
    }
   ],
   "source": [
    "%%time\n",
    "\n",
    "# Add regularization to the model\n",
    "regularizer=tf.keras.regularizers.L1L2(l1=0.02, l2=0.002)\n",
    "\n",
    "model=tf.keras.Sequential([\n",
    "    encoder,\n",
    "    tf.keras.layers.Embedding(\n",
    "        input_dim=len(encoder.get_vocabulary()),\n",
    "        output_dim=128,\n",
    "        mask_zero=True),\n",
    "    tf.keras.layers.Bidirectional(tf.keras.layers.LSTM(64)),\n",
    "    tf.keras.layers.Dense(16, activation='relu', kernel_regularizer=regularizer),\n",
    "    tf.keras.layers.Dense(1, activation='sigmoid')\n",
    "])\n",
    "\n",
    "# Re-compile\n",
    "model.compile(\n",
    "    loss=tf.keras.losses.BinaryCrossentropy(),\n",
    "    optimizer=tf.keras.optimizers.Adam(1e-5),\n",
    "    metrics=['accuracy']\n",
    ")\n",
    "\n",
    "# Re-train\n",
    "training_results=model.fit(\n",
    "    training_features,\n",
    "    training_labels,\n",
    "    epochs=500,\n",
    "    validation_data=(validation_features,validation_labels),\n",
    "    class_weight=class_weight,\n",
    "    verbose=0\n",
    ")\n",
    "\n",
    "# Set-up a 1x2 figure for accuracy and binary cross-entropy\n",
    "fig, axs=plt.subplots(1,2, figsize=(8,4))\n",
    "\n",
    "# Add the main title\n",
    "fig.suptitle('RNN training curves', size='large')\n",
    "\n",
    "# Plot training and validation accuracy\n",
    "axs[0].set_title('Accuracy')\n",
    "axs[0].plot(np.array(training_results.history['accuracy']) * 100, label='Training')\n",
    "axs[0].plot(np.array(training_results.history['val_accuracy']) * 100, label='Validation')\n",
    "axs[0].set_xlabel('Epoch')\n",
    "axs[0].set_ylabel('Accuracy (%)')\n",
    "axs[0].legend(loc='best')\n",
    "\n",
    "# Plot training and validation binary cross-entropy\n",
    "axs[1].set_title('Binary cross-entropy')\n",
    "axs[1].plot(training_results.history['loss'])\n",
    "axs[1].plot(training_results.history['val_loss'])\n",
    "axs[1].set_xlabel('Epoch')\n",
    "axs[1].set_ylabel('Binary cross-entropy')\n",
    "\n",
    "fig.tight_layout()\n",
    "\n",
    "print()"
   ]
  },
  {
   "cell_type": "markdown",
   "metadata": {},
   "source": [
    "## 4. Model evaluation\n",
    "\n",
    "### 4.1. Test set predictions"
   ]
  },
  {
   "cell_type": "code",
   "execution_count": 20,
   "metadata": {},
   "outputs": [
    {
     "name": "stdout",
     "output_type": "stream",
     "text": [
      "\u001b[1m19/19\u001b[0m \u001b[32m━━━━━━━━━━━━━━━━━━━━\u001b[0m\u001b[37m\u001b[0m \u001b[1m1s\u001b[0m 19ms/step\n"
     ]
    },
    {
     "data": {
      "image/png": "[encoded data removed]",
      "text/plain": [
       "<Figure size 640x480 with 2 Axes>"
      ]
     },
     "metadata": {},
     "output_type": "display_data"
    }
   ],
   "source": [
    "from sklearn.metrics import accuracy_score, confusion_matrix, ConfusionMatrixDisplay\n",
    "\n",
    "threshold=0.5\n",
    "predictions=model.predict(tf.convert_to_tensor(testing_tokens))\n",
    "predictions=[1 if p > threshold else 0 for p in predictions]\n",
    "\n",
    "accuracy=accuracy_score(predictions, encoded_testing_labels)*100\n",
    "\n",
    "# Plot the confusion matrix\n",
    "cm=confusion_matrix(encoded_testing_labels, predictions, normalize='true')\n",
    "cm_disp=ConfusionMatrixDisplay(confusion_matrix=cm)\n",
    "_=cm_disp.plot()\n",
    "\n",
    "plt.title(f'Test set performance\\noverall accuracy: {accuracy:.1f}%')\n",
    "plt.xlabel('Predicted outcome')\n",
    "plt.ylabel('True outcome')\n",
    "plt.show()"
   ]
  }
 ],
 "metadata": {
  "kernelspec": {
   "display_name": "Python 3",
   "language": "python",
   "name": "python3"
  },
  "language_info": {
   "codemirror_mode": {
    "name": "ipython",
    "version": 3
   },
   "file_extension": ".py",
   "mimetype": "text/x-python",
   "name": "python",
   "nbconvert_exporter": "python",
   "pygments_lexer": "ipython3",
   "version": "3.11.4"
  },
  "orig_nbformat": 4
 },
 "nbformat": 4,
 "nbformat_minor": 2
}
