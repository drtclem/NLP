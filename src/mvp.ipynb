{
    "cells": [
        {
            "cell_type": "markdown",
            "metadata": {},
            "source": [
                "# Natural language processing: spam detection"
            ]
        },
        {
            "cell_type": "code",
            "execution_count": 9,
            "metadata": {},
            "outputs": [],
            "source": [
                "import regex as re\n",
                "import numpy as np\n",
                "import pandas as pd\n",
                "import matplotlib.pyplot as plt\n",
                "import seaborn as sns\n",
                "from statistics import mean \n",
                "from sklearn.model_selection import train_test_split, cross_val_score\n",
                "from sklearn.metrics import accuracy_score, confusion_matrix, ConfusionMatrixDisplay\n",
                "from sklearn.feature_extraction.text import TfidfVectorizer\n",
                "from sklearn.svm import SVC\n",
                "from sklearn.model_selection import GridSearchCV\n",
                "from nltk import download\n",
                "from nltk.corpus import stopwords\n",
                "from nltk.stem import WordNetLemmatizer"
            ]
        },
        {
            "cell_type": "markdown",
            "metadata": {},
            "source": [
                "## 1. Data loading\n",
                "\n",
                "### 1.1. Load the data"
            ]
        },
        {
            "cell_type": "code",
            "execution_count": 10,
            "metadata": {},
            "outputs": [],
            "source": [
                "# Read csv file into dataframe\n",
                "data_df=pd.read_csv('https://raw.githubusercontent.com/4GeeksAcademy/NLP-project-tutorial/main/url_spam.csv')"
            ]
        },
        {
            "cell_type": "markdown",
            "metadata": {},
            "source": [
                "### 1.2. Inspect the data"
            ]
        },
        {
            "cell_type": "code",
            "execution_count": 11,
            "metadata": {},
            "outputs": [
                {
                    "data": {
                        "text/html": [
                            "<div>\n",
                            "<style scoped>\n",
                            "    .dataframe tbody tr th:only-of-type {\n",
                            "        vertical-align: middle;\n",
                            "    }\n",
                            "\n",
                            "    .dataframe tbody tr th {\n",
                            "        vertical-align: top;\n",
                            "    }\n",
                            "\n",
                            "    .dataframe thead th {\n",
                            "        text-align: right;\n",
                            "    }\n",
                            "</style>\n",
                            "<table border=\"1\" class=\"dataframe\">\n",
                            "  <thead>\n",
                            "    <tr style=\"text-align: right;\">\n",
                            "      <th></th>\n",
                            "      <th>url</th>\n",
                            "      <th>is_spam</th>\n",
                            "    </tr>\n",
                            "  </thead>\n",
                            "  <tbody>\n",
                            "    <tr>\n",
                            "      <th>0</th>\n",
                            "      <td>https://briefingday.us8.list-manage.com/unsubs...</td>\n",
                            "      <td>True</td>\n",
                            "    </tr>\n",
                            "    <tr>\n",
                            "      <th>1</th>\n",
                            "      <td>https://www.hvper.com/</td>\n",
                            "      <td>True</td>\n",
                            "    </tr>\n",
                            "    <tr>\n",
                            "      <th>2</th>\n",
                            "      <td>https://briefingday.com/m/v4n3i4f3</td>\n",
                            "      <td>True</td>\n",
                            "    </tr>\n",
                            "    <tr>\n",
                            "      <th>3</th>\n",
                            "      <td>https://briefingday.com/n/20200618/m#commentform</td>\n",
                            "      <td>False</td>\n",
                            "    </tr>\n",
                            "    <tr>\n",
                            "      <th>4</th>\n",
                            "      <td>https://briefingday.com/fan</td>\n",
                            "      <td>True</td>\n",
                            "    </tr>\n",
                            "  </tbody>\n",
                            "</table>\n",
                            "</div>"
                        ],
                        "text/plain": [
                            "                                                 url  is_spam\n",
                            "0  https://briefingday.us8.list-manage.com/unsubs...     True\n",
                            "1                             https://www.hvper.com/     True\n",
                            "2                 https://briefingday.com/m/v4n3i4f3     True\n",
                            "3   https://briefingday.com/n/20200618/m#commentform    False\n",
                            "4                        https://briefingday.com/fan     True"
                        ]
                    },
                    "execution_count": 11,
                    "metadata": {},
                    "output_type": "execute_result"
                }
            ],
            "source": [
                "data_df.head()\n"
            ]
        },
        {
            "cell_type": "code",
            "execution_count": 12,
            "metadata": {},
            "outputs": [
                {
                    "name": "stdout",
                    "output_type": "stream",
                    "text": [
                        "<class 'pandas.core.frame.DataFrame'>\n",
                        "RangeIndex: 2999 entries, 0 to 2998\n",
                        "Data columns (total 2 columns):\n",
                        " #   Column   Non-Null Count  Dtype \n",
                        "---  ------   --------------  ----- \n",
                        " 0   url      2999 non-null   object\n",
                        " 1   is_spam  2999 non-null   bool  \n",
                        "dtypes: bool(1), object(1)\n",
                        "memory usage: 26.5+ KB\n"
                    ]
                }
            ],
            "source": [
                "data_df.info()"
            ]
        },
        {
            "cell_type": "code",
            "execution_count": 13,
            "metadata": {},
            "outputs": [
                {
                    "data": {
                        "text/plain": [
                            "url        0\n",
                            "is_spam    0\n",
                            "dtype: int64"
                        ]
                    },
                    "execution_count": 13,
                    "metadata": {},
                    "output_type": "execute_result"
                }
            ],
            "source": [
                "data_df.isnull().sum()\n",
                "\n",
                "\n"
            ]
        },
        {
            "cell_type": "code",
            "execution_count": 29,
            "metadata": {},
            "outputs": [],
            "source": [
                "labels = data_df['is_spam']\n",
                "features = data_df.drop('is_spam', axis=1)  \n",
                "\n",
                "encoded_labels = labels.apply(lambda x: 1 if x else 0).astype(int)\n",
                "\n",
                "training_features, testing_features, encoded_training_labels, encoded_testing_labels = train_test_split(features, encoded_labels, test_size=0.25, random_state=42)"
            ]
        },
        {
            "cell_type": "code",
            "execution_count": 30,
            "metadata": {},
            "outputs": [
                {
                    "data": {
                        "text/html": [
                            "<div>\n",
                            "<style scoped>\n",
                            "    .dataframe tbody tr th:only-of-type {\n",
                            "        vertical-align: middle;\n",
                            "    }\n",
                            "\n",
                            "    .dataframe tbody tr th {\n",
                            "        vertical-align: top;\n",
                            "    }\n",
                            "\n",
                            "    .dataframe thead th {\n",
                            "        text-align: right;\n",
                            "    }\n",
                            "</style>\n",
                            "<table border=\"1\" class=\"dataframe\">\n",
                            "  <thead>\n",
                            "    <tr style=\"text-align: right;\">\n",
                            "      <th></th>\n",
                            "      <th>url</th>\n",
                            "    </tr>\n",
                            "  </thead>\n",
                            "  <tbody>\n",
                            "    <tr>\n",
                            "      <th>1064</th>\n",
                            "      <td>[https, en, wikipedia, org, wiki, eter, amborn...</td>\n",
                            "    </tr>\n",
                            "    <tr>\n",
                            "      <th>662</th>\n",
                            "      <td>[https, flickr, com, photos, websummit]</td>\n",
                            "    </tr>\n",
                            "    <tr>\n",
                            "      <th>480</th>\n",
                            "      <td>[https, nbcnews, com, business, economy, s, ec...</td>\n",
                            "    </tr>\n",
                            "    <tr>\n",
                            "      <th>2136</th>\n",
                            "      <td>[https, nytimes, com, technology, uber, postma...</td>\n",
                            "    </tr>\n",
                            "    <tr>\n",
                            "      <th>2702</th>\n",
                            "      <td>[https, mashable, com, article, amazon, prime,...</td>\n",
                            "    </tr>\n",
                            "  </tbody>\n",
                            "</table>\n",
                            "</div>"
                        ],
                        "text/plain": [
                            "                                                    url\n",
                            "1064  [https, en, wikipedia, org, wiki, eter, amborn...\n",
                            "662             [https, flickr, com, photos, websummit]\n",
                            "480   [https, nbcnews, com, business, economy, s, ec...\n",
                            "2136  [https, nytimes, com, technology, uber, postma...\n",
                            "2702  [https, mashable, com, article, amazon, prime,..."
                        ]
                    },
                    "execution_count": 30,
                    "metadata": {},
                    "output_type": "execute_result"
                }
            ],
            "source": [
                "def preprocess_text(text):\n",
                "\n",
                "    # Remove any character that is not a letter (a-z) or white space ( )\n",
                "    text=re.sub(r'[^a-z ]', ' ', text)\n",
                "    \n",
                "    # Remove white spaces\n",
                "    text=re.sub(r'\\s+[a-zA-Z]\\s+', ' ', text)\n",
                "    text=re.sub(r'\\^[a-zA-Z]\\s+', ' ', text)\n",
                "\n",
                "    # Multiple white spaces into one\n",
                "    text=re.sub(r'\\s+', ' ', text.lower())\n",
                "\n",
                "    # Remove tags\n",
                "    text=re.sub('&lt;/?.*?&gt;',' &lt;&gt; ', text)\n",
                "\n",
                "    # Remove 'http', 'https' and 'www'\n",
                "    # text=re.sub('https', '', text)\n",
                "    # text=re.sub('http', '', text)\n",
                "    text=re.sub('www', '', text)\n",
                "\n",
                "    return text.split()\n",
                "\n",
                "training_features['url']=training_features['url'].apply(preprocess_text)\n",
                "training_features.head()"
            ]
        },
        {
            "cell_type": "code",
            "execution_count": 31,
            "metadata": {},
            "outputs": [
                {
                    "name": "stderr",
                    "output_type": "stream",
                    "text": [
                        "[nltk_data] Downloading package wordnet to\n",
                        "[nltk_data]     /Users/taylorclements/nltk_data...\n",
                        "[nltk_data]   Package wordnet is already up-to-date!\n",
                        "[nltk_data] Downloading package stopwords to\n",
                        "[nltk_data]     /Users/taylorclements/nltk_data...\n",
                        "[nltk_data]   Package stopwords is already up-to-date!\n"
                    ]
                },
                {
                    "data": {
                        "text/html": [
                            "<div>\n",
                            "<style scoped>\n",
                            "    .dataframe tbody tr th:only-of-type {\n",
                            "        vertical-align: middle;\n",
                            "    }\n",
                            "\n",
                            "    .dataframe tbody tr th {\n",
                            "        vertical-align: top;\n",
                            "    }\n",
                            "\n",
                            "    .dataframe thead th {\n",
                            "        text-align: right;\n",
                            "    }\n",
                            "</style>\n",
                            "<table border=\"1\" class=\"dataframe\">\n",
                            "  <thead>\n",
                            "    <tr style=\"text-align: right;\">\n",
                            "      <th></th>\n",
                            "      <th>url</th>\n",
                            "    </tr>\n",
                            "  </thead>\n",
                            "  <tbody>\n",
                            "    <tr>\n",
                            "      <th>1064</th>\n",
                            "      <td>[http, wikipedia, wiki, eter, amborn, ilson]</td>\n",
                            "    </tr>\n",
                            "    <tr>\n",
                            "      <th>662</th>\n",
                            "      <td>[http, flickr, photo, websummit]</td>\n",
                            "    </tr>\n",
                            "    <tr>\n",
                            "      <th>480</th>\n",
                            "      <td>[http, nbcnews, business, economy, economy, sh...</td>\n",
                            "    </tr>\n",
                            "    <tr>\n",
                            "      <th>2136</th>\n",
                            "      <td>[http, nytimes, technology, uber, postmates, o...</td>\n",
                            "    </tr>\n",
                            "    <tr>\n",
                            "      <th>2702</th>\n",
                            "      <td>[http, mashable, article, amazon, prime, video...</td>\n",
                            "    </tr>\n",
                            "  </tbody>\n",
                            "</table>\n",
                            "</div>"
                        ],
                        "text/plain": [
                            "                                                    url\n",
                            "1064       [http, wikipedia, wiki, eter, amborn, ilson]\n",
                            "662                    [http, flickr, photo, websummit]\n",
                            "480   [http, nbcnews, business, economy, economy, sh...\n",
                            "2136  [http, nytimes, technology, uber, postmates, o...\n",
                            "2702  [http, mashable, article, amazon, prime, video..."
                        ]
                    },
                    "execution_count": 31,
                    "metadata": {},
                    "output_type": "execute_result"
                }
            ],
            "source": [
                "download('wordnet')\n",
                "lemmatizer=WordNetLemmatizer()\n",
                "\n",
                "download('stopwords')\n",
                "stop_words=stopwords.words('english')\n",
                "\n",
                "def lemmatize_text(words, lemmatizer=lemmatizer):\n",
                "    tokens=[lemmatizer.lemmatize(word) for word in words]\n",
                "    tokens=[word for word in tokens if word not in stop_words]\n",
                "    tokens=[word for word in tokens if len(word) > 3]\n",
                "    return tokens\n",
                "\n",
                "training_features['url']=training_features['url'].apply(lemmatize_text)\n",
                "training_features.head()"
            ]
        },
        {
            "cell_type": "code",
            "execution_count": 17,
            "metadata": {},
            "outputs": [
                {
                    "data": {
                        "image/png": "[encoded data removed]",
                        "text/plain": [
                            "<Figure size 640x480 with 1 Axes>"
                        ]
                    },
                    "metadata": {},
                    "output_type": "display_data"
                },
                {
                    "name": "stdout",
                    "output_type": "stream",
                    "text": [
                        "URL length mean: 7 tokens\n",
                        "URL length min: 2 tokens\n",
                        "URL length max: 22 tokens\n"
                    ]
                }
            ],
            "source": [
                "\n",
                "# Get the lengths (in tokens)\n",
                "lengths=[len(url) for url in training_features['url'].tolist()]\n",
                "\n",
                "# Add it back to the data as a new feature\n",
                "training_features['url_len']=lengths\n",
                "\n",
                "plt.title('URL length distribution')\n",
                "plt.xlabel('Tokens')\n",
                "plt.ylabel('URLs')\n",
                "plt.hist(lengths, bins=25, color='black')\n",
                "plt.show()\n",
                "\n",
                "print(f'URL length mean: {mean(lengths):.0f} tokens')\n",
                "print(f'URL length min: {min(lengths):.0f} tokens')\n",
                "print(f'URL length max: {max(lengths):.0f} tokens')"
            ]
        },
        {
            "cell_type": "code",
            "execution_count": 18,
            "metadata": {},
            "outputs": [],
            "source": [
                "# Add the labels back temporarily, so we can remove the corresponding label with url\n",
                "training_features['target']=encoded_training_labels\n",
                "training_features=training_features[training_features['url_len'] > 0]\n",
                "\n",
                "# Re-separate the features and labels\n",
                "encoded_training_labels=training_features['target']\n",
                "training_features.drop(['target'], axis=1, inplace=True)"
            ]
        },
        {
            "cell_type": "code",
            "execution_count": 19,
            "metadata": {},
            "outputs": [
                {
                    "data": {
                        "text/html": [
                            "<div>\n",
                            "<style scoped>\n",
                            "    .dataframe tbody tr th:only-of-type {\n",
                            "        vertical-align: middle;\n",
                            "    }\n",
                            "\n",
                            "    .dataframe tbody tr th {\n",
                            "        vertical-align: top;\n",
                            "    }\n",
                            "\n",
                            "    .dataframe thead th {\n",
                            "        text-align: right;\n",
                            "    }\n",
                            "</style>\n",
                            "<table border=\"1\" class=\"dataframe\">\n",
                            "  <thead>\n",
                            "    <tr style=\"text-align: right;\">\n",
                            "      <th></th>\n",
                            "      <th>url</th>\n",
                            "      <th>url_len</th>\n",
                            "    </tr>\n",
                            "  </thead>\n",
                            "  <tbody>\n",
                            "    <tr>\n",
                            "      <th>2984</th>\n",
                            "      <td>[http, canopygrowth, investor, news, release, ...</td>\n",
                            "      <td>18</td>\n",
                            "    </tr>\n",
                            "    <tr>\n",
                            "      <th>2710</th>\n",
                            "      <td>[http, ohio, news, ohio, university, professor...</td>\n",
                            "      <td>16</td>\n",
                            "    </tr>\n",
                            "    <tr>\n",
                            "      <th>236</th>\n",
                            "      <td>[http, judiciary, senate, press, release, chai...</td>\n",
                            "      <td>17</td>\n",
                            "    </tr>\n",
                            "    <tr>\n",
                            "      <th>2924</th>\n",
                            "      <td>[http, washingtonpost, local, public, safety, ...</td>\n",
                            "      <td>16</td>\n",
                            "    </tr>\n",
                            "    <tr>\n",
                            "      <th>2244</th>\n",
                            "      <td>[http, washingtonpost, national, security, rus...</td>\n",
                            "      <td>18</td>\n",
                            "    </tr>\n",
                            "    <tr>\n",
                            "      <th>2944</th>\n",
                            "      <td>[http, reuters, article, russia, putin, vote, ...</td>\n",
                            "      <td>17</td>\n",
                            "    </tr>\n",
                            "    <tr>\n",
                            "      <th>2621</th>\n",
                            "      <td>[http, blog, microsoft, blog, microsoft, launc...</td>\n",
                            "      <td>17</td>\n",
                            "    </tr>\n",
                            "    <tr>\n",
                            "      <th>248</th>\n",
                            "      <td>[http, tulsaworld, news, trump, tulsa, preside...</td>\n",
                            "      <td>17</td>\n",
                            "    </tr>\n",
                            "    <tr>\n",
                            "      <th>50</th>\n",
                            "      <td>[http, hopkinsmedicine, news, newsroom, news, ...</td>\n",
                            "      <td>16</td>\n",
                            "    </tr>\n",
                            "    <tr>\n",
                            "      <th>1060</th>\n",
                            "      <td>[http, king, article, news, local, protest, ac...</td>\n",
                            "      <td>16</td>\n",
                            "    </tr>\n",
                            "    <tr>\n",
                            "      <th>1704</th>\n",
                            "      <td>[http, marketwatch, story, reason, stock, mark...</td>\n",
                            "      <td>16</td>\n",
                            "    </tr>\n",
                            "    <tr>\n",
                            "      <th>2923</th>\n",
                            "      <td>[http, washingtonpost, world, europe, russia, ...</td>\n",
                            "      <td>19</td>\n",
                            "    </tr>\n",
                            "    <tr>\n",
                            "      <th>2731</th>\n",
                            "      <td>[http, washingtonpost, politics, court, suprem...</td>\n",
                            "      <td>17</td>\n",
                            "    </tr>\n",
                            "    <tr>\n",
                            "      <th>1095</th>\n",
                            "      <td>[http, section, live, update, protest, racial,...</td>\n",
                            "      <td>22</td>\n",
                            "    </tr>\n",
                            "  </tbody>\n",
                            "</table>\n",
                            "</div>"
                        ],
                        "text/plain": [
                            "                                                    url  url_len\n",
                            "2984  [http, canopygrowth, investor, news, release, ...       18\n",
                            "2710  [http, ohio, news, ohio, university, professor...       16\n",
                            "236   [http, judiciary, senate, press, release, chai...       17\n",
                            "2924  [http, washingtonpost, local, public, safety, ...       16\n",
                            "2244  [http, washingtonpost, national, security, rus...       18\n",
                            "2944  [http, reuters, article, russia, putin, vote, ...       17\n",
                            "2621  [http, blog, microsoft, blog, microsoft, launc...       17\n",
                            "248   [http, tulsaworld, news, trump, tulsa, preside...       17\n",
                            "50    [http, hopkinsmedicine, news, newsroom, news, ...       16\n",
                            "1060  [http, king, article, news, local, protest, ac...       16\n",
                            "1704  [http, marketwatch, story, reason, stock, mark...       16\n",
                            "2923  [http, washingtonpost, world, europe, russia, ...       19\n",
                            "2731  [http, washingtonpost, politics, court, suprem...       17\n",
                            "1095  [http, section, live, update, protest, racial,...       22"
                        ]
                    },
                    "execution_count": 19,
                    "metadata": {},
                    "output_type": "execute_result"
                }
            ],
            "source": [
                "training_features[training_features['url_len'] > 15]"
            ]
        },
        {
            "cell_type": "code",
            "execution_count": 20,
            "metadata": {},
            "outputs": [
                {
                    "name": "stdout",
                    "output_type": "stream",
                    "text": [
                        "Encoded features shape: (2249, 475)\n"
                    ]
                }
            ],
            "source": [
                "# Extract the tokenized URLs and join the individual lists\n",
                "tokens_list=training_features['url']\n",
                "tokens_list=[' '.join(tokens) for tokens in tokens_list]\n",
                "\n",
                "# Vectorize the URLs using TF-IDF\n",
                "vectorizer=TfidfVectorizer(max_features=5000, max_df=0.8, min_df=5)\n",
                "encoded_training_features=vectorizer.fit_transform(tokens_list).toarray()\n",
                "\n",
                "# Get the words from the vector model\n",
                "feature_names=vectorizer.get_feature_names_out()\n",
                "\n",
                "# Convert the training data word counts back into a dataframe\n",
                "encoded_training_features=pd.DataFrame(encoded_training_features, columns=feature_names)\n",
                "print(f'Encoded features shape: {encoded_training_features.shape}')"
            ]
        },
        {
            "cell_type": "code",
            "execution_count": 21,
            "metadata": {},
            "outputs": [
                {
                    "data": {
                        "text/html": [
                            "<div>\n",
                            "<style scoped>\n",
                            "    .dataframe tbody tr th:only-of-type {\n",
                            "        vertical-align: middle;\n",
                            "    }\n",
                            "\n",
                            "    .dataframe tbody tr th {\n",
                            "        vertical-align: top;\n",
                            "    }\n",
                            "\n",
                            "    .dataframe thead th {\n",
                            "        text-align: right;\n",
                            "    }\n",
                            "</style>\n",
                            "<table border=\"1\" class=\"dataframe\">\n",
                            "  <thead>\n",
                            "    <tr style=\"text-align: right;\">\n",
                            "      <th></th>\n",
                            "      <th>abcnews</th>\n",
                            "      <th>abortion</th>\n",
                            "      <th>account</th>\n",
                            "      <th>action</th>\n",
                            "      <th>activist</th>\n",
                            "      <th>administration</th>\n",
                            "      <th>advertising</th>\n",
                            "      <th>afghanistan</th>\n",
                            "      <th>amazon</th>\n",
                            "      <th>america</th>\n",
                            "      <th>...</th>\n",
                            "      <th>wwdc</th>\n",
                            "      <th>yduq</th>\n",
                            "      <th>year</th>\n",
                            "      <th>york</th>\n",
                            "      <th>young</th>\n",
                            "      <th>youre</th>\n",
                            "      <th>youtu</th>\n",
                            "      <th>youtube</th>\n",
                            "      <th>zone</th>\n",
                            "      <th>zoom</th>\n",
                            "    </tr>\n",
                            "  </thead>\n",
                            "  <tbody>\n",
                            "    <tr>\n",
                            "      <th>0</th>\n",
                            "      <td>0.0</td>\n",
                            "      <td>0.0</td>\n",
                            "      <td>0.0</td>\n",
                            "      <td>0.0</td>\n",
                            "      <td>0.0</td>\n",
                            "      <td>0.0</td>\n",
                            "      <td>0.0</td>\n",
                            "      <td>0.0</td>\n",
                            "      <td>0.000000</td>\n",
                            "      <td>0.0</td>\n",
                            "      <td>...</td>\n",
                            "      <td>0.0</td>\n",
                            "      <td>0.0</td>\n",
                            "      <td>0.0</td>\n",
                            "      <td>0.0</td>\n",
                            "      <td>0.0</td>\n",
                            "      <td>0.0</td>\n",
                            "      <td>0.0</td>\n",
                            "      <td>0.0</td>\n",
                            "      <td>0.0</td>\n",
                            "      <td>0.0</td>\n",
                            "    </tr>\n",
                            "    <tr>\n",
                            "      <th>1</th>\n",
                            "      <td>0.0</td>\n",
                            "      <td>0.0</td>\n",
                            "      <td>0.0</td>\n",
                            "      <td>0.0</td>\n",
                            "      <td>0.0</td>\n",
                            "      <td>0.0</td>\n",
                            "      <td>0.0</td>\n",
                            "      <td>0.0</td>\n",
                            "      <td>0.000000</td>\n",
                            "      <td>0.0</td>\n",
                            "      <td>...</td>\n",
                            "      <td>0.0</td>\n",
                            "      <td>0.0</td>\n",
                            "      <td>0.0</td>\n",
                            "      <td>0.0</td>\n",
                            "      <td>0.0</td>\n",
                            "      <td>0.0</td>\n",
                            "      <td>0.0</td>\n",
                            "      <td>0.0</td>\n",
                            "      <td>0.0</td>\n",
                            "      <td>0.0</td>\n",
                            "    </tr>\n",
                            "    <tr>\n",
                            "      <th>2</th>\n",
                            "      <td>0.0</td>\n",
                            "      <td>0.0</td>\n",
                            "      <td>0.0</td>\n",
                            "      <td>0.0</td>\n",
                            "      <td>0.0</td>\n",
                            "      <td>0.0</td>\n",
                            "      <td>0.0</td>\n",
                            "      <td>0.0</td>\n",
                            "      <td>0.000000</td>\n",
                            "      <td>0.0</td>\n",
                            "      <td>...</td>\n",
                            "      <td>0.0</td>\n",
                            "      <td>0.0</td>\n",
                            "      <td>0.0</td>\n",
                            "      <td>0.0</td>\n",
                            "      <td>0.0</td>\n",
                            "      <td>0.0</td>\n",
                            "      <td>0.0</td>\n",
                            "      <td>0.0</td>\n",
                            "      <td>0.0</td>\n",
                            "      <td>0.0</td>\n",
                            "    </tr>\n",
                            "    <tr>\n",
                            "      <th>3</th>\n",
                            "      <td>0.0</td>\n",
                            "      <td>0.0</td>\n",
                            "      <td>0.0</td>\n",
                            "      <td>0.0</td>\n",
                            "      <td>0.0</td>\n",
                            "      <td>0.0</td>\n",
                            "      <td>0.0</td>\n",
                            "      <td>0.0</td>\n",
                            "      <td>0.000000</td>\n",
                            "      <td>0.0</td>\n",
                            "      <td>...</td>\n",
                            "      <td>0.0</td>\n",
                            "      <td>0.0</td>\n",
                            "      <td>0.0</td>\n",
                            "      <td>0.0</td>\n",
                            "      <td>0.0</td>\n",
                            "      <td>0.0</td>\n",
                            "      <td>0.0</td>\n",
                            "      <td>0.0</td>\n",
                            "      <td>0.0</td>\n",
                            "      <td>0.0</td>\n",
                            "    </tr>\n",
                            "    <tr>\n",
                            "      <th>4</th>\n",
                            "      <td>0.0</td>\n",
                            "      <td>0.0</td>\n",
                            "      <td>0.0</td>\n",
                            "      <td>0.0</td>\n",
                            "      <td>0.0</td>\n",
                            "      <td>0.0</td>\n",
                            "      <td>0.0</td>\n",
                            "      <td>0.0</td>\n",
                            "      <td>0.503753</td>\n",
                            "      <td>0.0</td>\n",
                            "      <td>...</td>\n",
                            "      <td>0.0</td>\n",
                            "      <td>0.0</td>\n",
                            "      <td>0.0</td>\n",
                            "      <td>0.0</td>\n",
                            "      <td>0.0</td>\n",
                            "      <td>0.0</td>\n",
                            "      <td>0.0</td>\n",
                            "      <td>0.0</td>\n",
                            "      <td>0.0</td>\n",
                            "      <td>0.0</td>\n",
                            "    </tr>\n",
                            "  </tbody>\n",
                            "</table>\n",
                            "<p>5 rows × 475 columns</p>\n",
                            "</div>"
                        ],
                        "text/plain": [
                            "   abcnews  abortion  account  action  activist  administration  advertising  \\\n",
                            "0      0.0       0.0      0.0     0.0       0.0             0.0          0.0   \n",
                            "1      0.0       0.0      0.0     0.0       0.0             0.0          0.0   \n",
                            "2      0.0       0.0      0.0     0.0       0.0             0.0          0.0   \n",
                            "3      0.0       0.0      0.0     0.0       0.0             0.0          0.0   \n",
                            "4      0.0       0.0      0.0     0.0       0.0             0.0          0.0   \n",
                            "\n",
                            "   afghanistan    amazon  america  ...  wwdc  yduq  year  york  young  youre  \\\n",
                            "0          0.0  0.000000      0.0  ...   0.0   0.0   0.0   0.0    0.0    0.0   \n",
                            "1          0.0  0.000000      0.0  ...   0.0   0.0   0.0   0.0    0.0    0.0   \n",
                            "2          0.0  0.000000      0.0  ...   0.0   0.0   0.0   0.0    0.0    0.0   \n",
                            "3          0.0  0.000000      0.0  ...   0.0   0.0   0.0   0.0    0.0    0.0   \n",
                            "4          0.0  0.503753      0.0  ...   0.0   0.0   0.0   0.0    0.0    0.0   \n",
                            "\n",
                            "   youtu  youtube  zone  zoom  \n",
                            "0    0.0      0.0   0.0   0.0  \n",
                            "1    0.0      0.0   0.0   0.0  \n",
                            "2    0.0      0.0   0.0   0.0  \n",
                            "3    0.0      0.0   0.0   0.0  \n",
                            "4    0.0      0.0   0.0   0.0  \n",
                            "\n",
                            "[5 rows x 475 columns]"
                        ]
                    },
                    "execution_count": 21,
                    "metadata": {},
                    "output_type": "execute_result"
                }
            ],
            "source": [
                "encoded_training_features.head()\n"
            ]
        },
        {
            "cell_type": "code",
            "execution_count": 22,
            "metadata": {},
            "outputs": [
                {
                    "data": {
                        "image/png": "[encoded data removed]",
                        "text/plain": [
                            "<Figure size 640x480 with 1 Axes>"
                        ]
                    },
                    "metadata": {},
                    "output_type": "display_data"
                }
            ],
            "source": [
                "feature_means=encoded_training_features.mean().tolist()\n",
                "\n",
                "plt.title('Mean TF-IDF distribution')\n",
                "plt.xlabel('Mean TF-IDF')\n",
                "plt.ylabel('Features')\n",
                "plt.hist(feature_means, bins=30, color='black')\n",
                "plt.show()"
            ]
        },
        {
            "cell_type": "code",
            "execution_count": 23,
            "metadata": {},
            "outputs": [
                {
                    "name": "stdout",
                    "output_type": "stream",
                    "text": [
                        "Cross validation accuracy: 94.0+/-1.2%\n"
                    ]
                }
            ],
            "source": [
                "cv_folds=7\n",
                "\n",
                "# Instantiate the support vector machine classifier with defaults\n",
                "baseline_model=SVC(class_weight='balanced')\n",
                "\n",
                "# Cross-validate the default model on the encoded training data\n",
                "scores=cross_val_score(\n",
                "    baseline_model,\n",
                "    encoded_training_features,\n",
                "    encoded_training_labels,\n",
                "    cv=cv_folds,\n",
                "    n_jobs=-1\n",
                ")\n",
                "\n",
                "# Save the baseline cross-validation scores for later\n",
                "cross_val_scores={\n",
                "    'Model': ['Baseline']*cv_folds,\n",
                "    'Score': list(scores)\n",
                "}\n",
                "\n",
                "print(f'Cross validation accuracy: {np.mean(scores)*100:.1f}+/-{np.std(scores)*100:.1f}%')"
            ]
        },
        {
            "cell_type": "code",
            "execution_count": 24,
            "metadata": {},
            "outputs": [
                {
                    "name": "stdout",
                    "output_type": "stream",
                    "text": [
                        "Best hyperparameters: {'C': 1, 'degree': 4, 'gamma': 'scale', 'kernel': 'poly'}\n"
                    ]
                }
            ],
            "source": [
                "hyperparameters = {\n",
                "    'C': [0.01, 0.1, 1, 10],\n",
                "    'kernel': ['linear', 'poly', 'rbf', 'sigmoid'],\n",
                "    'degree': [2, 3, 4],\n",
                "    'gamma': ['scale', 'auto']\n",
                "}\n",
                "\n",
                "# Instantiate a new model\n",
                "model=SVC(class_weight='balanced')\n",
                "\n",
                "# Set up the grid search\n",
                "grid=GridSearchCV(model, hyperparameters, scoring='accuracy', cv=cv_folds, n_jobs=-1)\n",
                "\n",
                "# Run the search\n",
                "optimization_results=grid.fit(encoded_training_features, encoded_training_labels)\n",
                "\n",
                "print(f'Best hyperparameters: {grid.best_params_}')"
            ]
        },
        {
            "cell_type": "code",
            "execution_count": 25,
            "metadata": {},
            "outputs": [
                {
                    "name": "stdout",
                    "output_type": "stream",
                    "text": [
                        "Cross validation accuracy: 94.4+/-1.2%\n"
                    ]
                }
            ],
            "source": [
                "# Cross-validate the model with the winning hyperparameters\n",
                "optimized_model=SVC(**grid.best_params_, class_weight='balanced')\n",
                "\n",
                "# Cross-validate the optimized model on the encoded training data\n",
                "scores=cross_val_score(\n",
                "    optimized_model,\n",
                "    encoded_training_features,\n",
                "    encoded_training_labels,\n",
                "    cv=cv_folds,\n",
                "    n_jobs=-1\n",
                ")\n",
                "\n",
                "# Save the optimized cross-validation scores for later\n",
                "cross_val_scores['Model'].extend(['Optimized']*cv_folds)\n",
                "cross_val_scores['Score'].extend(scores)\n",
                "\n",
                "print(f'Cross validation accuracy: {np.mean(scores)*100:.1f}+/-{np.std(scores)*100:.1f}%')"
            ]
        },
        {
            "cell_type": "code",
            "execution_count": 26,
            "metadata": {},
            "outputs": [
                {
                    "data": {
                        "image/png": "[encoded data removed]",
                        "text/plain": [
                            "<Figure size 640x480 with 1 Axes>"
                        ]
                    },
                    "metadata": {},
                    "output_type": "display_data"
                }
            ],
            "source": [
                "sns.boxplot(pd.DataFrame.from_dict(cross_val_scores), x='Model', y='Score')\n",
                "plt.title('Model cross-validation performance comparison')\n",
                "plt.ylabel('Accuracy (%)')\n",
                "plt.show()"
            ]
        },
        {
            "cell_type": "code",
            "execution_count": 27,
            "metadata": {},
            "outputs": [
                {
                    "name": "stdout",
                    "output_type": "stream",
                    "text": [
                        "Encoded features shape: (750, 475)\n"
                    ]
                }
            ],
            "source": [
                "# Clean up the text\n",
                "testing_features['url']=testing_features['url'].apply(preprocess_text)\n",
                "testing_features['url']=testing_features['url'].apply(lemmatize_text)\n",
                "\n",
                "# Get the lengths (in tokens)\n",
                "lengths=[len(url) for url in testing_features['url'].tolist()]\n",
                "\n",
                "# Add it back to the data as a new feature\n",
                "testing_features['url_len']=lengths\n",
                "\n",
                "# Exclude urls shorter than 15\n",
                "testing_features[testing_features['url_len'] > 0]\n",
                "\n",
                "# Extract the tokenized URLs and join the individual lists\n",
                "tokens_list=testing_features['url']\n",
                "tokens_list=[' '.join(tokens) for tokens in tokens_list]\n",
                "\n",
                "encoded_testing_features=vectorizer.transform(tokens_list).toarray()\n",
                "\n",
                "# Convert the testing data word counts back into a dataframe\n",
                "encoded_testing_features=pd.DataFrame(encoded_testing_features, columns=feature_names)\n",
                "print(f'Encoded features shape: {encoded_testing_features.shape}')"
            ]
        },
        {
            "cell_type": "code",
            "execution_count": 28,
            "metadata": {},
            "outputs": [
                {
                    "data": {
                        "image/png": "[encoded data removed]",
                        "text/plain": [
                            "<Figure size 640x480 with 2 Axes>"
                        ]
                    },
                    "metadata": {},
                    "output_type": "display_data"
                }
            ],
            "source": [
                "optimized_model.fit(encoded_training_features, encoded_training_labels)\n",
                "predictions=optimized_model.predict(encoded_testing_features)\n",
                "\n",
                "accuracy=accuracy_score(predictions, encoded_testing_labels)*100\n",
                "\n",
                "# Plot the confusion matrix\n",
                "cm=confusion_matrix(encoded_testing_labels, predictions, normalize='true')\n",
                "cm_disp=ConfusionMatrixDisplay(confusion_matrix=cm)\n",
                "_=cm_disp.plot()\n",
                "\n",
                "plt.title(f'Test set performance\\noverall accuracy: {accuracy:.1f}%')\n",
                "plt.xlabel('Predicted outcome')\n",
                "plt.ylabel('True outcome')\n",
                "plt.show()"
            ]
        },
        {
            "cell_type": "code",
            "execution_count": null,
            "metadata": {},
            "outputs": [],
            "source": []
        },
        {
            "cell_type": "code",
            "execution_count": null,
            "metadata": {},
            "outputs": [],
            "source": []
        }
    ],
    "metadata": {
        "kernelspec": {
            "display_name": "base",
            "language": "python",
            "name": "python3"
        },
        "language_info": {
            "codemirror_mode": {
                "name": "ipython",
                "version": 3
            },
            "file_extension": ".py",
            "mimetype": "text/x-python",
            "name": "python",
            "nbconvert_exporter": "python",
            "pygments_lexer": "ipython3",
            "version": "3.12.2"
        },
        "orig_nbformat": 4
    },
    "nbformat": 4,
    "nbformat_minor": 2
}
